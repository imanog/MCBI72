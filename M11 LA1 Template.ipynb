{
 "cells": [
  {
   "cell_type": "code",
   "execution_count": null,
   "metadata": {},
   "outputs": [],
   "source": [
    "# Importing Libraries  \n",
    "import numpy as np  \n",
    "import pandas as pd  \n",
    "import matplotlib.pyplot as plt  \n",
    "#Importing Datasets  \n",
    "data=pd.read_csv('UsersData.csv')\n",
    "data.head()"
   ]
  },
  {
   "cell_type": "code",
   "execution_count": null,
   "metadata": {},
   "outputs": [],
   "source": [
    "#Extracting independent and dependent Variables  \n",
    "# ... complete this cell ..."
   ]
  },
  {
   "cell_type": "code",
   "execution_count": null,
   "metadata": {},
   "outputs": [],
   "source": [
    "#Feature Scaling  \n",
    "from sklearn.preprocessing import StandardScaler    \n",
    "# ... complete this cell ... "
   ]
  },
  {
   "cell_type": "code",
   "execution_count": null,
   "metadata": {},
   "outputs": [],
   "source": [
    "# Splitting the dataset into training and test sets  \n",
    "from sklearn.model_selection import train_test_split  \n",
    "x_train,x_test,y_train,y_test= train_test_split(x,y,test_size= 0.25)"
   ]
  },
  {
   "cell_type": "code",
   "execution_count": null,
   "metadata": {},
   "outputs": [],
   "source": [
    "#Fitting Logistic Regression to the training set  \n",
    "from sklearn.linear_model import LogisticRegression as LR \n",
    "# ... complete this cell ... "
   ]
  },
  {
   "cell_type": "code",
   "execution_count": null,
   "metadata": {},
   "outputs": [],
   "source": [
    "#Predicting the test set result  \n",
    "# ... complete this cell ... "
   ]
  },
  {
   "cell_type": "code",
   "execution_count": null,
   "metadata": {},
   "outputs": [],
   "source": [
    "#Creating the Confusion matrix  \n",
    "# ... complete this cell ... "
   ]
  },
  {
   "cell_type": "code",
   "execution_count": null,
   "metadata": {},
   "outputs": [],
   "source": [
    "#Visualizing the training set result  \n",
    "x_set, y_set = x_train, y_train  \n",
    "from matplotlib.colors import ListedColormap  \n",
    "x1, x2 = np.meshgrid(np.arange(start = x_set[:, 0].min() - 1, stop = x_set[:, 0].max() + 1, step  =0.01),  \n",
    "np.arange(start = x_set[:, 1].min() - 1, stop = x_set[:, 1].max() + 1, step = 0.01))  \n",
    "plt.contourf(x1, x2, classifier.predict(np.array([x1.ravel(), x2.ravel()]).T).reshape(x1.shape),  \n",
    "alpha = 0.75, cmap = ListedColormap(('purple','green' )))  \n",
    "plt.xlim(x1.min(), x1.max())  \n",
    "plt.ylim(x2.min(), x2.max())  \n",
    "for i, j in enumerate(np.unique(y_set)):  \n",
    "    plt.scatter(x_set[y_set == j, 0], x_set[y_set == j, 1],  \n",
    "        c = ListedColormap(('purple', 'green'))(i), label = j)  \n",
    "plt.title('Logistic Regression (Training set)')  \n",
    "plt.xlabel('Age')  \n",
    "plt.ylabel('Estimated Salary')  \n",
    "plt.legend()  \n",
    "plt.show()  "
   ]
  },
  {
   "cell_type": "code",
   "execution_count": null,
   "metadata": {},
   "outputs": [],
   "source": [
    "#Visualizing the test set result  \n",
    "x_set, y_set = x_test, y_test  \n",
    "from matplotlib.colors import ListedColormap  \n",
    "x_set, y_set = x_test, y_test  \n",
    "x1, x2 = np.meshgrid(np.arange(start = x_set[:, 0].min() - 1, stop = x_set[:, 0].max() + 1, step  =0.01),  \n",
    "np.arange(start = x_set[:, 1].min() - 1, stop = x_set[:, 1].max() + 1, step = 0.01))  \n",
    "plt.contourf(x1, x2, classifier.predict(np.array([x1.ravel(), x2.ravel()]).T).reshape(x1.shape),  \n",
    "alpha = 0.75, cmap = ListedColormap(('purple','green' )))  \n",
    "plt.xlim(x1.min(), x1.max())  \n",
    "plt.ylim(x2.min(), x2.max())  \n",
    "for i, j in enumerate(np.unique(y_set)):  \n",
    "    plt.scatter(x_set[y_set == j, 0], x_set[y_set == j, 1],  \n",
    "        c = ListedColormap(('purple', 'green'))(i), label = j)  \n",
    "plt.title('Logistic Regression (Test set)')  \n",
    "plt.xlabel('Age')  \n",
    "plt.ylabel('Estimated Salary')  \n",
    "plt.legend()  \n",
    "plt.show()  "
   ]
  },
  {
   "cell_type": "code",
   "execution_count": null,
   "metadata": {},
   "outputs": [],
   "source": []
  },
  {
   "cell_type": "code",
   "execution_count": null,
   "metadata": {},
   "outputs": [],
   "source": []
  }
 ],
 "metadata": {
  "kernelspec": {
   "display_name": "Python 3",
   "language": "python",
   "name": "python3"
  },
  "language_info": {
   "codemirror_mode": {
    "name": "ipython",
    "version": 3
   },
   "file_extension": ".py",
   "mimetype": "text/x-python",
   "name": "python",
   "nbconvert_exporter": "python",
   "pygments_lexer": "ipython3",
   "version": "3.7.6"
  }
 },
 "nbformat": 4,
 "nbformat_minor": 4
}
